{
 "cells": [
  {
   "cell_type": "markdown",
   "metadata": {},
   "source": [
    "### Heroes Of Pymoli Data Analysis\n",
    "* Of the 1163 active players, the vast majority are male (84%). There also exists, a smaller, but notable proportion of female players (14%).\n",
    "\n",
    "* Our peak age demographic falls between 20-24 (44.8%) with secondary groups falling between 15-19 (18.60%) and 25-29 (13.4%).  \n",
    "-----"
   ]
  },
  {
   "cell_type": "markdown",
   "metadata": {},
   "source": [
    "### Note\n",
    "* Instructions have been included for each segment. You do not have to follow them exactly, but they are included to help you think through the steps."
   ]
  },
  {
   "cell_type": "code",
   "execution_count": 35,
   "metadata": {},
   "outputs": [],
   "source": [
    "# Dependencies and Setup\n",
    "import pandas as pd\n",
    "import numpy as np\n",
    "\n",
    "# File to Load (Remember to Change These)\n",
    "file_to_load = \"Resources/purchase_data.csv\"\n",
    "\n",
    "# Read Purchasing File and store into Pandas data frame\n",
    "purchase_data = pd.read_csv(file_to_load)"
   ]
  },
  {
   "cell_type": "markdown",
   "metadata": {},
   "source": [
    "## Player Count"
   ]
  },
  {
   "cell_type": "markdown",
   "metadata": {},
   "source": [
    "* Display the total number of players\n"
   ]
  },
  {
   "cell_type": "code",
   "execution_count": 36,
   "metadata": {},
   "outputs": [
    {
     "data": {
      "text/html": [
       "<div>\n",
       "<style scoped>\n",
       "    .dataframe tbody tr th:only-of-type {\n",
       "        vertical-align: middle;\n",
       "    }\n",
       "\n",
       "    .dataframe tbody tr th {\n",
       "        vertical-align: top;\n",
       "    }\n",
       "\n",
       "    .dataframe thead th {\n",
       "        text-align: right;\n",
       "    }\n",
       "</style>\n",
       "<table border=\"1\" class=\"dataframe\">\n",
       "  <thead>\n",
       "    <tr style=\"text-align: right;\">\n",
       "      <th></th>\n",
       "      <th>Purchase ID</th>\n",
       "      <th>SN</th>\n",
       "      <th>Age</th>\n",
       "      <th>Gender</th>\n",
       "      <th>Item ID</th>\n",
       "      <th>Item Name</th>\n",
       "      <th>Price</th>\n",
       "    </tr>\n",
       "  </thead>\n",
       "  <tbody>\n",
       "    <tr>\n",
       "      <th>0</th>\n",
       "      <td>0</td>\n",
       "      <td>Lisim78</td>\n",
       "      <td>20</td>\n",
       "      <td>Male</td>\n",
       "      <td>108</td>\n",
       "      <td>Extraction, Quickblade Of Trembling Hands</td>\n",
       "      <td>3.53</td>\n",
       "    </tr>\n",
       "    <tr>\n",
       "      <th>1</th>\n",
       "      <td>1</td>\n",
       "      <td>Lisovynya38</td>\n",
       "      <td>40</td>\n",
       "      <td>Male</td>\n",
       "      <td>143</td>\n",
       "      <td>Frenzied Scimitar</td>\n",
       "      <td>1.56</td>\n",
       "    </tr>\n",
       "    <tr>\n",
       "      <th>2</th>\n",
       "      <td>2</td>\n",
       "      <td>Ithergue48</td>\n",
       "      <td>24</td>\n",
       "      <td>Male</td>\n",
       "      <td>92</td>\n",
       "      <td>Final Critic</td>\n",
       "      <td>4.88</td>\n",
       "    </tr>\n",
       "    <tr>\n",
       "      <th>3</th>\n",
       "      <td>3</td>\n",
       "      <td>Chamassasya86</td>\n",
       "      <td>24</td>\n",
       "      <td>Male</td>\n",
       "      <td>100</td>\n",
       "      <td>Blindscythe</td>\n",
       "      <td>3.27</td>\n",
       "    </tr>\n",
       "    <tr>\n",
       "      <th>4</th>\n",
       "      <td>4</td>\n",
       "      <td>Iskosia90</td>\n",
       "      <td>23</td>\n",
       "      <td>Male</td>\n",
       "      <td>131</td>\n",
       "      <td>Fury</td>\n",
       "      <td>1.44</td>\n",
       "    </tr>\n",
       "  </tbody>\n",
       "</table>\n",
       "</div>"
      ],
      "text/plain": [
       "   Purchase ID             SN  Age Gender  Item ID  \\\n",
       "0            0        Lisim78   20   Male      108   \n",
       "1            1    Lisovynya38   40   Male      143   \n",
       "2            2     Ithergue48   24   Male       92   \n",
       "3            3  Chamassasya86   24   Male      100   \n",
       "4            4      Iskosia90   23   Male      131   \n",
       "\n",
       "                                   Item Name  Price  \n",
       "0  Extraction, Quickblade Of Trembling Hands   3.53  \n",
       "1                          Frenzied Scimitar   1.56  \n",
       "2                               Final Critic   4.88  \n",
       "3                                Blindscythe   3.27  \n",
       "4                                       Fury   1.44  "
      ]
     },
     "execution_count": 36,
     "metadata": {},
     "output_type": "execute_result"
    }
   ],
   "source": [
    "#show header and first five (0-4)\n",
    "purchase_data.head()"
   ]
  },
  {
   "cell_type": "code",
   "execution_count": 37,
   "metadata": {},
   "outputs": [
    {
     "data": {
      "text/plain": [
       "Index(['Purchase ID', 'SN', 'Age', 'Gender', 'Item ID', 'Item Name', 'Price'], dtype='object')"
      ]
     },
     "execution_count": 37,
     "metadata": {},
     "output_type": "execute_result"
    }
   ],
   "source": [
    "#obtain listed columns columns \n",
    "purchase_data.columns"
   ]
  },
  {
   "cell_type": "code",
   "execution_count": 38,
   "metadata": {},
   "outputs": [
    {
     "data": {
      "text/html": [
       "<div>\n",
       "<style scoped>\n",
       "    .dataframe tbody tr th:only-of-type {\n",
       "        vertical-align: middle;\n",
       "    }\n",
       "\n",
       "    .dataframe tbody tr th {\n",
       "        vertical-align: top;\n",
       "    }\n",
       "\n",
       "    .dataframe thead th {\n",
       "        text-align: right;\n",
       "    }\n",
       "</style>\n",
       "<table border=\"1\" class=\"dataframe\">\n",
       "  <thead>\n",
       "    <tr style=\"text-align: right;\">\n",
       "      <th></th>\n",
       "      <th>Total Players</th>\n",
       "    </tr>\n",
       "  </thead>\n",
       "  <tbody>\n",
       "    <tr>\n",
       "      <th>0</th>\n",
       "      <td>576</td>\n",
       "    </tr>\n",
       "  </tbody>\n",
       "</table>\n",
       "</div>"
      ],
      "text/plain": [
       "   Total Players\n",
       "0            576"
      ]
     },
     "execution_count": 38,
     "metadata": {},
     "output_type": "execute_result"
    }
   ],
   "source": [
    "#find total number of players\n",
    "uni_players = purchase_data['SN'].nunique()\n",
    "total_players = pd.DataFrame([\n",
    "    {\"Total Players\": (uni_players)}\n",
    "])\n",
    "total_players"
   ]
  },
  {
   "cell_type": "markdown",
   "metadata": {},
   "source": [
    "## Purchasing Analysis (Total)"
   ]
  },
  {
   "cell_type": "markdown",
   "metadata": {},
   "source": [
    "* Run basic calculations to obtain number of unique items, average price, etc.\n",
    "\n",
    "\n",
    "* Create a summary data frame to hold the results\n",
    "\n",
    "\n",
    "* Optional: give the displayed data cleaner formatting\n",
    "\n",
    "\n",
    "* Display the summary data frame\n"
   ]
  },
  {
   "cell_type": "code",
   "execution_count": 39,
   "metadata": {
    "scrolled": true
   },
   "outputs": [
    {
     "data": {
      "text/html": [
       "<style  type=\"text/css\" >\n",
       "</style>  \n",
       "<table id=\"T_69deb4cc_17b1_11e9_8cc9_1c36bbeca881\" > \n",
       "<thead>    <tr> \n",
       "        <th class=\"blank level0\" ></th> \n",
       "        <th class=\"col_heading level0 col0\" >Number of Unique Items</th> \n",
       "        <th class=\"col_heading level0 col1\" >Average Purchase Price</th> \n",
       "        <th class=\"col_heading level0 col2\" >Number of Purchases</th> \n",
       "        <th class=\"col_heading level0 col3\" >Total Revenues</th> \n",
       "    </tr></thead> \n",
       "<tbody>    <tr> \n",
       "        <th id=\"T_69deb4cc_17b1_11e9_8cc9_1c36bbeca881level0_row0\" class=\"row_heading level0 row0\" >0</th> \n",
       "        <td id=\"T_69deb4cc_17b1_11e9_8cc9_1c36bbeca881row0_col0\" class=\"data row0 col0\" >183</td> \n",
       "        <td id=\"T_69deb4cc_17b1_11e9_8cc9_1c36bbeca881row0_col1\" class=\"data row0 col1\" >$3.05</td> \n",
       "        <td id=\"T_69deb4cc_17b1_11e9_8cc9_1c36bbeca881row0_col2\" class=\"data row0 col2\" >780</td> \n",
       "        <td id=\"T_69deb4cc_17b1_11e9_8cc9_1c36bbeca881row0_col3\" class=\"data row0 col3\" >$2,379.77</td> \n",
       "    </tr></tbody> \n",
       "</table> "
      ],
      "text/plain": [
       "<pandas.io.formats.style.Styler at 0x11c6c3e48>"
      ]
     },
     "execution_count": 39,
     "metadata": {},
     "output_type": "execute_result"
    }
   ],
   "source": [
    "#find unique items sold, price, how many purchases, and total amount from purchases \n",
    "#make sure to show as df not series \n",
    "unique_items = purchase_data['Item ID'].nunique()\n",
    "avg_price = purchase_data['Price'].mean()\n",
    "avg_prices = np.round(avg_price,2)\n",
    "total_purchases = purchase_data['Item ID'].count()\n",
    "gross_revenues = purchase_data['Price'].sum()\n",
    "\n",
    "#create column names/ information using dictionaries (as a Dataframe)\n",
    "purchasing_analysis = pd.DataFrame({\"Number of Unique Items\": [unique_items],\n",
    "                                             \"Average Purchase Price\": [avg_prices], \n",
    "                                             \"Number of Purchases\": [total_purchases],\n",
    "                                             \"Total Revenues\": [gross_revenues]})\n",
    "purchasing_analysis.style.format({\"Average Purchase Price\":\"${:.2f}\", \"Total Revenues\":\"${:,.2f}\"})"
   ]
  },
  {
   "cell_type": "markdown",
   "metadata": {},
   "source": [
    "## Gender Demographics"
   ]
  },
  {
   "cell_type": "markdown",
   "metadata": {},
   "source": [
    "* Percentage and Count of Male Players\n",
    "\n",
    "\n",
    "* Percentage and Count of Female Players\n",
    "\n",
    "\n",
    "* Percentage and Count of Other / Non-Disclosed\n",
    "\n",
    "\n"
   ]
  },
  {
   "cell_type": "code",
   "execution_count": 40,
   "metadata": {},
   "outputs": [
    {
     "data": {
      "text/plain": [
       "array(['Male', 'Other / Non-Disclosed', 'Female'], dtype=object)"
      ]
     },
     "execution_count": 40,
     "metadata": {},
     "output_type": "execute_result"
    }
   ],
   "source": [
    "purchase_data[\"Gender\"].unique()"
   ]
  },
  {
   "cell_type": "code",
   "execution_count": 41,
   "metadata": {},
   "outputs": [
    {
     "data": {
      "text/html": [
       "<style  type=\"text/css\" >\n",
       "</style>  \n",
       "<table id=\"T_69e20118_17b1_11e9_9adb_1c36bbeca881\" > \n",
       "<thead>    <tr> \n",
       "        <th class=\"blank level0\" ></th> \n",
       "        <th class=\"col_heading level0 col0\" >Genders</th> \n",
       "        <th class=\"col_heading level0 col1\" >Total Counts</th> \n",
       "        <th class=\"col_heading level0 col2\" >Percentage of Players</th> \n",
       "    </tr></thead> \n",
       "<tbody>    <tr> \n",
       "        <th id=\"T_69e20118_17b1_11e9_9adb_1c36bbeca881level0_row0\" class=\"row_heading level0 row0\" >0</th> \n",
       "        <td id=\"T_69e20118_17b1_11e9_9adb_1c36bbeca881row0_col0\" class=\"data row0 col0\" >Male</td> \n",
       "        <td id=\"T_69e20118_17b1_11e9_9adb_1c36bbeca881row0_col1\" class=\"data row0 col1\" >484</td> \n",
       "        <td id=\"T_69e20118_17b1_11e9_9adb_1c36bbeca881row0_col2\" class=\"data row0 col2\" >84.03%</td> \n",
       "    </tr>    <tr> \n",
       "        <th id=\"T_69e20118_17b1_11e9_9adb_1c36bbeca881level0_row1\" class=\"row_heading level0 row1\" >1</th> \n",
       "        <td id=\"T_69e20118_17b1_11e9_9adb_1c36bbeca881row1_col0\" class=\"data row1 col0\" >Female</td> \n",
       "        <td id=\"T_69e20118_17b1_11e9_9adb_1c36bbeca881row1_col1\" class=\"data row1 col1\" >81</td> \n",
       "        <td id=\"T_69e20118_17b1_11e9_9adb_1c36bbeca881row1_col2\" class=\"data row1 col2\" >14.06%</td> \n",
       "    </tr>    <tr> \n",
       "        <th id=\"T_69e20118_17b1_11e9_9adb_1c36bbeca881level0_row2\" class=\"row_heading level0 row2\" >2</th> \n",
       "        <td id=\"T_69e20118_17b1_11e9_9adb_1c36bbeca881row2_col0\" class=\"data row2 col0\" >Other / Non-Disclosed</td> \n",
       "        <td id=\"T_69e20118_17b1_11e9_9adb_1c36bbeca881row2_col1\" class=\"data row2 col1\" >11</td> \n",
       "        <td id=\"T_69e20118_17b1_11e9_9adb_1c36bbeca881row2_col2\" class=\"data row2 col2\" >1.91%</td> \n",
       "    </tr></tbody> \n",
       "</table> "
      ],
      "text/plain": [
       "<pandas.io.formats.style.Styler at 0x11c6c9fd0>"
      ]
     },
     "execution_count": 41,
     "metadata": {},
     "output_type": "execute_result"
    }
   ],
   "source": [
    "total_gender = purchase_data['SN'].nunique()\n",
    "male_count = purchase_data[purchase_data['Gender']== 'Male']['SN'].nunique()\n",
    "female_count = purchase_data[purchase_data['Gender']=='Female']['SN'].nunique()\n",
    "other_count = purchase_data[purchase_data['Gender']=='Other / Non-Disclosed']['SN'].nunique()\n",
    "\n",
    "#percentage count\n",
    "male_percentage = (male_count/total_gender) * 100\n",
    "male_percentages = np.round(male_percentage,2)\n",
    "\n",
    "female_percentage = (female_count / total_gender)*100\n",
    "female_percentages = np.round(female_percentage,2)\n",
    "\n",
    "other_percentage = (other_count / total_gender)*100\n",
    "other_percentages = np.round(other_percentage,2)\n",
    "\n",
    "gender_types = pd.DataFrame({\"Genders\":[\"Male\", \"Female\", \"Other / Non-Disclosed\"], \"Total Counts\": [male_count,female_count,other_count],\n",
    "                             \"Percentage of Players\": [male_percentages, female_percentages, other_percentages]})\n",
    "\n",
    "gender_types.style.format({\"Percentage of Players\": \"{:.2f}%\"})"
   ]
  },
  {
   "cell_type": "markdown",
   "metadata": {},
   "source": [
    "\n",
    "## Purchasing Analysis (Gender)"
   ]
  },
  {
   "cell_type": "markdown",
   "metadata": {},
   "source": [
    "* Run basic calculations to obtain purchase count, avg. purchase price, avg. purchase total per person etc. by gender\n",
    "\n",
    "\n",
    "\n",
    "\n",
    "* Create a summary data frame to hold the results\n",
    "\n",
    "\n",
    "* Optional: give the displayed data cleaner formatting\n",
    "\n",
    "\n",
    "* Display the summary data frame"
   ]
  },
  {
   "cell_type": "code",
   "execution_count": 42,
   "metadata": {},
   "outputs": [
    {
     "data": {
      "text/html": [
       "<style  type=\"text/css\" >\n",
       "</style>  \n",
       "<table id=\"T_69e621b4_17b1_11e9_ade4_1c36bbeca881\" > \n",
       "<thead>    <tr> \n",
       "        <th class=\"blank level0\" ></th> \n",
       "        <th class=\"col_heading level0 col0\" >Gender</th> \n",
       "        <th class=\"col_heading level0 col1\" >Purchase Count</th> \n",
       "        <th class=\"col_heading level0 col2\" >Average Purchase Price</th> \n",
       "        <th class=\"col_heading level0 col3\" >Total Purchase Value</th> \n",
       "        <th class=\"col_heading level0 col4\" >Avg Total Purchase per Person</th> \n",
       "    </tr></thead> \n",
       "<tbody>    <tr> \n",
       "        <th id=\"T_69e621b4_17b1_11e9_ade4_1c36bbeca881level0_row0\" class=\"row_heading level0 row0\" >0</th> \n",
       "        <td id=\"T_69e621b4_17b1_11e9_ade4_1c36bbeca881row0_col0\" class=\"data row0 col0\" >Female</td> \n",
       "        <td id=\"T_69e621b4_17b1_11e9_ade4_1c36bbeca881row0_col1\" class=\"data row0 col1\" >113</td> \n",
       "        <td id=\"T_69e621b4_17b1_11e9_ade4_1c36bbeca881row0_col2\" class=\"data row0 col2\" >$3.20</td> \n",
       "        <td id=\"T_69e621b4_17b1_11e9_ade4_1c36bbeca881row0_col3\" class=\"data row0 col3\" >$361.94</td> \n",
       "        <td id=\"T_69e621b4_17b1_11e9_ade4_1c36bbeca881row0_col4\" class=\"data row0 col4\" >$0.83</td> \n",
       "    </tr>    <tr> \n",
       "        <th id=\"T_69e621b4_17b1_11e9_ade4_1c36bbeca881level0_row1\" class=\"row_heading level0 row1\" >1</th> \n",
       "        <td id=\"T_69e621b4_17b1_11e9_ade4_1c36bbeca881row1_col0\" class=\"data row1 col0\" >Male</td> \n",
       "        <td id=\"T_69e621b4_17b1_11e9_ade4_1c36bbeca881row1_col1\" class=\"data row1 col1\" >652</td> \n",
       "        <td id=\"T_69e621b4_17b1_11e9_ade4_1c36bbeca881row1_col2\" class=\"data row1 col2\" >$3.02</td> \n",
       "        <td id=\"T_69e621b4_17b1_11e9_ade4_1c36bbeca881row1_col3\" class=\"data row1 col3\" >$1,967.64</td> \n",
       "        <td id=\"T_69e621b4_17b1_11e9_ade4_1c36bbeca881row1_col4\" class=\"data row1 col4\" >$4.55</td> \n",
       "    </tr>    <tr> \n",
       "        <th id=\"T_69e621b4_17b1_11e9_ade4_1c36bbeca881level0_row2\" class=\"row_heading level0 row2\" >2</th> \n",
       "        <td id=\"T_69e621b4_17b1_11e9_ade4_1c36bbeca881row2_col0\" class=\"data row2 col0\" >Other / Non-Disclosed</td> \n",
       "        <td id=\"T_69e621b4_17b1_11e9_ade4_1c36bbeca881row2_col1\" class=\"data row2 col1\" >15</td> \n",
       "        <td id=\"T_69e621b4_17b1_11e9_ade4_1c36bbeca881row2_col2\" class=\"data row2 col2\" >$3.35</td> \n",
       "        <td id=\"T_69e621b4_17b1_11e9_ade4_1c36bbeca881row2_col3\" class=\"data row2 col3\" >$50.19</td> \n",
       "        <td id=\"T_69e621b4_17b1_11e9_ade4_1c36bbeca881row2_col4\" class=\"data row2 col4\" >$14.98</td> \n",
       "    </tr></tbody> \n",
       "</table> "
      ],
      "text/plain": [
       "<pandas.io.formats.style.Styler at 0x11c6cd390>"
      ]
     },
     "execution_count": 42,
     "metadata": {},
     "output_type": "execute_result"
    }
   ],
   "source": [
    "\n",
    "male_purcahse = purchase_data[purchase_data['Gender'] == 'Male']['Price'].count()\n",
    "female_purchase = purchase_data[purchase_data['Gender']=='Female']['Price'].count()\n",
    "other_purchase = purchase_data[purchase_data['Gender']== 'Other / Non-Disclosed']['Price'].count()\n",
    "\n",
    "male_avgPrice = purchase_data[purchase_data['Gender'] == 'Male']['Price'].mean()\n",
    "male_avgPrices = np.round(male_avgPrice,2)\n",
    "\n",
    "female_avgPrice = purchase_data[purchase_data['Gender'] == 'Female']['Price'].mean()\n",
    "female_avgPrices = np.round(female_avgPrice,2)\n",
    "\n",
    "other_avgPrice = purchase_data[purchase_data['Gender']== 'Other / Non-Disclosed']['Price'].mean()\n",
    "other_avgPrices = np.round(other_avgPrice,2)\n",
    "\n",
    "male_priceTotal = purchase_data[purchase_data['Gender']=='Male']['Price'].sum()\n",
    "female_priceTotal = purchase_data[purchase_data['Gender']=='Female']['Price'].sum()\n",
    "other_priceTotal = purchase_data[purchase_data['Gender']=='Other / Non-Disclosed']['Price'].sum()\n",
    "\n",
    "single_male = (male_purcahse+male_priceTotal)/uni_players\n",
    "single_males = np.round(single_male,2)\n",
    "single_female = (female_purchase+female_priceTotal)/(uni_players-female_avgPrices)\n",
    "single_females = np.round(single_female,2)\n",
    "single_other = (other_priceTotal/other_avgPrices)\n",
    "single_others = np.round(single_other,2)\n",
    "\n",
    "purchasing_analysis = pd.DataFrame({\"Gender\": [\"Female\", \"Male\", \"Other / Non-Disclosed\"],\n",
    "                                   \"Purchase Count\": [female_purchase, male_purcahse, other_purchase],\n",
    "                                   \"Average Purchase Price\": [female_avgPrices, male_avgPrices, other_avgPrices],\n",
    "                                   \"Total Purchase Value\": [female_priceTotal, male_priceTotal, other_priceTotal],\n",
    "                                   \"Avg Total Purchase per Person\":[single_females, single_males,single_others]})\n",
    "purchasing_analysis.style.format({\"Average Purchase Price\": \"${:,.2f}\", \"Total Purchase Value\": \"${:,.2f}\", \"Avg Total Purchase per Person\": \"${:,.2f}\"})"
   ]
  },
  {
   "cell_type": "markdown",
   "metadata": {},
   "source": [
    "## Age Demographics"
   ]
  },
  {
   "cell_type": "markdown",
   "metadata": {},
   "source": [
    "* Establish bins for ages\n",
    "\n",
    "\n",
    "* Categorize the existing players using the age bins. Hint: use pd.cut()\n",
    "\n",
    "\n",
    "* Calculate the numbers and percentages by age group\n",
    "\n",
    "\n",
    "* Create a summary data frame to hold the results\n",
    "\n",
    "\n",
    "* Optional: round the percentage column to two decimal points\n",
    "\n",
    "\n",
    "* Display Age Demographics Table\n"
   ]
  },
  {
   "cell_type": "code",
   "execution_count": 43,
   "metadata": {},
   "outputs": [
    {
     "data": {
      "text/html": [
       "<style  type=\"text/css\" >\n",
       "</style>  \n",
       "<table id=\"T_69e93d28_17b1_11e9_b8f7_1c36bbeca881\" > \n",
       "<thead>    <tr> \n",
       "        <th class=\"blank level0\" ></th> \n",
       "        <th class=\"col_heading level0 col0\" >Total Count</th> \n",
       "        <th class=\"col_heading level0 col1\" >% of Players</th> \n",
       "    </tr>    <tr> \n",
       "        <th class=\"index_name level0\" >AGE</th> \n",
       "        <th class=\"blank\" ></th> \n",
       "        <th class=\"blank\" ></th> \n",
       "    </tr></thead> \n",
       "<tbody>    <tr> \n",
       "        <th id=\"T_69e93d28_17b1_11e9_b8f7_1c36bbeca881level0_row0\" class=\"row_heading level0 row0\" ><10</th> \n",
       "        <td id=\"T_69e93d28_17b1_11e9_b8f7_1c36bbeca881row0_col0\" class=\"data row0 col0\" >17</td> \n",
       "        <td id=\"T_69e93d28_17b1_11e9_b8f7_1c36bbeca881row0_col1\" class=\"data row0 col1\" >2.95%</td> \n",
       "    </tr>    <tr> \n",
       "        <th id=\"T_69e93d28_17b1_11e9_b8f7_1c36bbeca881level0_row1\" class=\"row_heading level0 row1\" >10-14</th> \n",
       "        <td id=\"T_69e93d28_17b1_11e9_b8f7_1c36bbeca881row1_col0\" class=\"data row1 col0\" >22</td> \n",
       "        <td id=\"T_69e93d28_17b1_11e9_b8f7_1c36bbeca881row1_col1\" class=\"data row1 col1\" >3.82%</td> \n",
       "    </tr>    <tr> \n",
       "        <th id=\"T_69e93d28_17b1_11e9_b8f7_1c36bbeca881level0_row2\" class=\"row_heading level0 row2\" >15-19</th> \n",
       "        <td id=\"T_69e93d28_17b1_11e9_b8f7_1c36bbeca881row2_col0\" class=\"data row2 col0\" >107</td> \n",
       "        <td id=\"T_69e93d28_17b1_11e9_b8f7_1c36bbeca881row2_col1\" class=\"data row2 col1\" >18.58%</td> \n",
       "    </tr>    <tr> \n",
       "        <th id=\"T_69e93d28_17b1_11e9_b8f7_1c36bbeca881level0_row3\" class=\"row_heading level0 row3\" >20-24</th> \n",
       "        <td id=\"T_69e93d28_17b1_11e9_b8f7_1c36bbeca881row3_col0\" class=\"data row3 col0\" >258</td> \n",
       "        <td id=\"T_69e93d28_17b1_11e9_b8f7_1c36bbeca881row3_col1\" class=\"data row3 col1\" >44.79%</td> \n",
       "    </tr>    <tr> \n",
       "        <th id=\"T_69e93d28_17b1_11e9_b8f7_1c36bbeca881level0_row4\" class=\"row_heading level0 row4\" >25-29</th> \n",
       "        <td id=\"T_69e93d28_17b1_11e9_b8f7_1c36bbeca881row4_col0\" class=\"data row4 col0\" >77</td> \n",
       "        <td id=\"T_69e93d28_17b1_11e9_b8f7_1c36bbeca881row4_col1\" class=\"data row4 col1\" >13.37%</td> \n",
       "    </tr>    <tr> \n",
       "        <th id=\"T_69e93d28_17b1_11e9_b8f7_1c36bbeca881level0_row5\" class=\"row_heading level0 row5\" >30-34</th> \n",
       "        <td id=\"T_69e93d28_17b1_11e9_b8f7_1c36bbeca881row5_col0\" class=\"data row5 col0\" >52</td> \n",
       "        <td id=\"T_69e93d28_17b1_11e9_b8f7_1c36bbeca881row5_col1\" class=\"data row5 col1\" >9.03%</td> \n",
       "    </tr>    <tr> \n",
       "        <th id=\"T_69e93d28_17b1_11e9_b8f7_1c36bbeca881level0_row6\" class=\"row_heading level0 row6\" >35-39</th> \n",
       "        <td id=\"T_69e93d28_17b1_11e9_b8f7_1c36bbeca881row6_col0\" class=\"data row6 col0\" >31</td> \n",
       "        <td id=\"T_69e93d28_17b1_11e9_b8f7_1c36bbeca881row6_col1\" class=\"data row6 col1\" >5.38%</td> \n",
       "    </tr>    <tr> \n",
       "        <th id=\"T_69e93d28_17b1_11e9_b8f7_1c36bbeca881level0_row7\" class=\"row_heading level0 row7\" >40+</th> \n",
       "        <td id=\"T_69e93d28_17b1_11e9_b8f7_1c36bbeca881row7_col0\" class=\"data row7 col0\" >12</td> \n",
       "        <td id=\"T_69e93d28_17b1_11e9_b8f7_1c36bbeca881row7_col1\" class=\"data row7 col1\" >2.08%</td> \n",
       "    </tr></tbody> \n",
       "</table> "
      ],
      "text/plain": [
       "<pandas.io.formats.style.Styler at 0x11c5da7b8>"
      ]
     },
     "execution_count": 43,
     "metadata": {},
     "output_type": "execute_result"
    }
   ],
   "source": [
    "age_bins = [0, *np.arange(9, 40, 5), 999]\n",
    "groups = [\"<10\", \"10-14\", \"15-19\", \"20-24\",\"25-29\", \"30-34\", \"35-39\",\"40+\"]\n",
    "\n",
    "purchase_data['AGE'] = pd.cut(purchase_data[\"Age\"], bins=age_bins, labels=groups)\n",
    "uni_player_age = purchase_data.groupby([\"AGE\", \"SN\"])\n",
    "count_ages = uni_player_age['SN'].count().groupby(level=0).count()\n",
    "\n",
    "age_demographics = pd.DataFrame({\n",
    "    \"Total Count\": count_ages,\n",
    "    \"% of Players\": (count_ages / uni_players * 100)\n",
    "})\n",
    "age_demographics.style.format({\"% of Players\": \"{:.2f}%\"})"
   ]
  },
  {
   "cell_type": "markdown",
   "metadata": {},
   "source": [
    "## Purchasing Analysis (Age)"
   ]
  },
  {
   "cell_type": "markdown",
   "metadata": {},
   "source": [
    "* Bin the purchase_data data frame by age\n",
    "\n",
    "\n",
    "* Run basic calculations to obtain purchase count, avg. purchase price, avg. purchase total per person etc. in the table below\n",
    "\n",
    "\n",
    "* Create a summary data frame to hold the results\n",
    "\n",
    "\n",
    "* Optional: give the displayed data cleaner formatting\n",
    "\n",
    "\n",
    "* Display the summary data frame"
   ]
  },
  {
   "cell_type": "code",
   "execution_count": 44,
   "metadata": {},
   "outputs": [
    {
     "data": {
      "text/html": [
       "<style  type=\"text/css\" >\n",
       "</style>  \n",
       "<table id=\"T_69ebbbf4_17b1_11e9_ba01_1c36bbeca881\" > \n",
       "<thead>    <tr> \n",
       "        <th class=\"blank level0\" ></th> \n",
       "        <th class=\"col_heading level0 col0\" >Purchase Count</th> \n",
       "        <th class=\"col_heading level0 col1\" >Average Purchase Price</th> \n",
       "        <th class=\"col_heading level0 col2\" >Total Purchase Value</th> \n",
       "        <th class=\"col_heading level0 col3\" >Average Purchase per Person</th> \n",
       "    </tr>    <tr> \n",
       "        <th class=\"index_name level0\" >AGE</th> \n",
       "        <th class=\"blank\" ></th> \n",
       "        <th class=\"blank\" ></th> \n",
       "        <th class=\"blank\" ></th> \n",
       "        <th class=\"blank\" ></th> \n",
       "    </tr></thead> \n",
       "<tbody>    <tr> \n",
       "        <th id=\"T_69ebbbf4_17b1_11e9_ba01_1c36bbeca881level0_row0\" class=\"row_heading level0 row0\" ><10</th> \n",
       "        <td id=\"T_69ebbbf4_17b1_11e9_ba01_1c36bbeca881row0_col0\" class=\"data row0 col0\" >23</td> \n",
       "        <td id=\"T_69ebbbf4_17b1_11e9_ba01_1c36bbeca881row0_col1\" class=\"data row0 col1\" >$3.35</td> \n",
       "        <td id=\"T_69ebbbf4_17b1_11e9_ba01_1c36bbeca881row0_col2\" class=\"data row0 col2\" >$77.13</td> \n",
       "        <td id=\"T_69ebbbf4_17b1_11e9_ba01_1c36bbeca881row0_col3\" class=\"data row0 col3\" >$77.13</td> \n",
       "    </tr>    <tr> \n",
       "        <th id=\"T_69ebbbf4_17b1_11e9_ba01_1c36bbeca881level0_row1\" class=\"row_heading level0 row1\" >10-14</th> \n",
       "        <td id=\"T_69ebbbf4_17b1_11e9_ba01_1c36bbeca881row1_col0\" class=\"data row1 col0\" >28</td> \n",
       "        <td id=\"T_69ebbbf4_17b1_11e9_ba01_1c36bbeca881row1_col1\" class=\"data row1 col1\" >$2.96</td> \n",
       "        <td id=\"T_69ebbbf4_17b1_11e9_ba01_1c36bbeca881row1_col2\" class=\"data row1 col2\" >$82.78</td> \n",
       "        <td id=\"T_69ebbbf4_17b1_11e9_ba01_1c36bbeca881row1_col3\" class=\"data row1 col3\" >$82.78</td> \n",
       "    </tr>    <tr> \n",
       "        <th id=\"T_69ebbbf4_17b1_11e9_ba01_1c36bbeca881level0_row2\" class=\"row_heading level0 row2\" >15-19</th> \n",
       "        <td id=\"T_69ebbbf4_17b1_11e9_ba01_1c36bbeca881row2_col0\" class=\"data row2 col0\" >136</td> \n",
       "        <td id=\"T_69ebbbf4_17b1_11e9_ba01_1c36bbeca881row2_col1\" class=\"data row2 col1\" >$3.04</td> \n",
       "        <td id=\"T_69ebbbf4_17b1_11e9_ba01_1c36bbeca881row2_col2\" class=\"data row2 col2\" >$412.89</td> \n",
       "        <td id=\"T_69ebbbf4_17b1_11e9_ba01_1c36bbeca881row2_col3\" class=\"data row2 col3\" >$412.89</td> \n",
       "    </tr>    <tr> \n",
       "        <th id=\"T_69ebbbf4_17b1_11e9_ba01_1c36bbeca881level0_row3\" class=\"row_heading level0 row3\" >20-24</th> \n",
       "        <td id=\"T_69ebbbf4_17b1_11e9_ba01_1c36bbeca881row3_col0\" class=\"data row3 col0\" >365</td> \n",
       "        <td id=\"T_69ebbbf4_17b1_11e9_ba01_1c36bbeca881row3_col1\" class=\"data row3 col1\" >$3.05</td> \n",
       "        <td id=\"T_69ebbbf4_17b1_11e9_ba01_1c36bbeca881row3_col2\" class=\"data row3 col2\" >$1114.06</td> \n",
       "        <td id=\"T_69ebbbf4_17b1_11e9_ba01_1c36bbeca881row3_col3\" class=\"data row3 col3\" >$1114.06</td> \n",
       "    </tr>    <tr> \n",
       "        <th id=\"T_69ebbbf4_17b1_11e9_ba01_1c36bbeca881level0_row4\" class=\"row_heading level0 row4\" >25-29</th> \n",
       "        <td id=\"T_69ebbbf4_17b1_11e9_ba01_1c36bbeca881row4_col0\" class=\"data row4 col0\" >101</td> \n",
       "        <td id=\"T_69ebbbf4_17b1_11e9_ba01_1c36bbeca881row4_col1\" class=\"data row4 col1\" >$2.90</td> \n",
       "        <td id=\"T_69ebbbf4_17b1_11e9_ba01_1c36bbeca881row4_col2\" class=\"data row4 col2\" >$293.00</td> \n",
       "        <td id=\"T_69ebbbf4_17b1_11e9_ba01_1c36bbeca881row4_col3\" class=\"data row4 col3\" >$293.00</td> \n",
       "    </tr>    <tr> \n",
       "        <th id=\"T_69ebbbf4_17b1_11e9_ba01_1c36bbeca881level0_row5\" class=\"row_heading level0 row5\" >30-34</th> \n",
       "        <td id=\"T_69ebbbf4_17b1_11e9_ba01_1c36bbeca881row5_col0\" class=\"data row5 col0\" >73</td> \n",
       "        <td id=\"T_69ebbbf4_17b1_11e9_ba01_1c36bbeca881row5_col1\" class=\"data row5 col1\" >$2.93</td> \n",
       "        <td id=\"T_69ebbbf4_17b1_11e9_ba01_1c36bbeca881row5_col2\" class=\"data row5 col2\" >$214.00</td> \n",
       "        <td id=\"T_69ebbbf4_17b1_11e9_ba01_1c36bbeca881row5_col3\" class=\"data row5 col3\" >$214.00</td> \n",
       "    </tr>    <tr> \n",
       "        <th id=\"T_69ebbbf4_17b1_11e9_ba01_1c36bbeca881level0_row6\" class=\"row_heading level0 row6\" >35-39</th> \n",
       "        <td id=\"T_69ebbbf4_17b1_11e9_ba01_1c36bbeca881row6_col0\" class=\"data row6 col0\" >41</td> \n",
       "        <td id=\"T_69ebbbf4_17b1_11e9_ba01_1c36bbeca881row6_col1\" class=\"data row6 col1\" >$3.60</td> \n",
       "        <td id=\"T_69ebbbf4_17b1_11e9_ba01_1c36bbeca881row6_col2\" class=\"data row6 col2\" >$147.67</td> \n",
       "        <td id=\"T_69ebbbf4_17b1_11e9_ba01_1c36bbeca881row6_col3\" class=\"data row6 col3\" >$147.67</td> \n",
       "    </tr>    <tr> \n",
       "        <th id=\"T_69ebbbf4_17b1_11e9_ba01_1c36bbeca881level0_row7\" class=\"row_heading level0 row7\" >40+</th> \n",
       "        <td id=\"T_69ebbbf4_17b1_11e9_ba01_1c36bbeca881row7_col0\" class=\"data row7 col0\" >13</td> \n",
       "        <td id=\"T_69ebbbf4_17b1_11e9_ba01_1c36bbeca881row7_col1\" class=\"data row7 col1\" >$2.94</td> \n",
       "        <td id=\"T_69ebbbf4_17b1_11e9_ba01_1c36bbeca881row7_col2\" class=\"data row7 col2\" >$38.24</td> \n",
       "        <td id=\"T_69ebbbf4_17b1_11e9_ba01_1c36bbeca881row7_col3\" class=\"data row7 col3\" >$38.24</td> \n",
       "    </tr></tbody> \n",
       "</table> "
      ],
      "text/plain": [
       "<pandas.io.formats.style.Styler at 0x11c5bbe10>"
      ]
     },
     "execution_count": 44,
     "metadata": {},
     "output_type": "execute_result"
    }
   ],
   "source": [
    "new_age = purchase_data.groupby(\"AGE\")\n",
    "\n",
    "pur_analysis = pd.DataFrame({\n",
    "    \"Purchase Count\": new_age[\"Purchase ID\"].count(),\n",
    "    \"Average Purchase Price\": new_age[\"Price\"].mean(),\n",
    "    \"Total Purchase Value\": new_age[\"Price\"].sum(),\n",
    "    \"Average Purchase per Person\": new_age[\"Price\"].sum().groupby(level=0).mean(),\n",
    "})\n",
    "pur_analysis.style.format({\"Average Purchase Price\": \"${:.2f}\", \"Total Purchase Value\": \"${:.2f}\", \"Average Purchase per Person\": \"${:.2f}\"})"
   ]
  },
  {
   "cell_type": "markdown",
   "metadata": {},
   "source": [
    "## Top Spenders"
   ]
  },
  {
   "cell_type": "markdown",
   "metadata": {},
   "source": [
    "* Run basic calculations to obtain the results in the table below\n",
    "\n",
    "\n",
    "* Create a summary data frame to hold the results\n",
    "\n",
    "\n",
    "* Sort the total purchase value column in descending order\n",
    "\n",
    "\n",
    "* Optional: give the displayed data cleaner formatting\n",
    "\n",
    "\n",
    "* Display a preview of the summary data frame\n",
    "\n"
   ]
  },
  {
   "cell_type": "code",
   "execution_count": 45,
   "metadata": {},
   "outputs": [
    {
     "data": {
      "text/html": [
       "<style  type=\"text/css\" >\n",
       "</style>  \n",
       "<table id=\"T_69ee1a1e_17b1_11e9_b595_1c36bbeca881\" > \n",
       "<thead>    <tr> \n",
       "        <th class=\"blank level0\" ></th> \n",
       "        <th class=\"col_heading level0 col0\" >Purchase Count</th> \n",
       "        <th class=\"col_heading level0 col1\" >Average Purchase Price</th> \n",
       "        <th class=\"col_heading level0 col2\" >Total Purchase Value</th> \n",
       "    </tr>    <tr> \n",
       "        <th class=\"index_name level0\" >SN</th> \n",
       "        <th class=\"blank\" ></th> \n",
       "        <th class=\"blank\" ></th> \n",
       "        <th class=\"blank\" ></th> \n",
       "    </tr></thead> \n",
       "<tbody>    <tr> \n",
       "        <th id=\"T_69ee1a1e_17b1_11e9_b595_1c36bbeca881level0_row0\" class=\"row_heading level0 row0\" >Lisosia93</th> \n",
       "        <td id=\"T_69ee1a1e_17b1_11e9_b595_1c36bbeca881row0_col0\" class=\"data row0 col0\" >5</td> \n",
       "        <td id=\"T_69ee1a1e_17b1_11e9_b595_1c36bbeca881row0_col1\" class=\"data row0 col1\" >$3.79</td> \n",
       "        <td id=\"T_69ee1a1e_17b1_11e9_b595_1c36bbeca881row0_col2\" class=\"data row0 col2\" >$18.96</td> \n",
       "    </tr>    <tr> \n",
       "        <th id=\"T_69ee1a1e_17b1_11e9_b595_1c36bbeca881level0_row1\" class=\"row_heading level0 row1\" >Idastidru52</th> \n",
       "        <td id=\"T_69ee1a1e_17b1_11e9_b595_1c36bbeca881row1_col0\" class=\"data row1 col0\" >4</td> \n",
       "        <td id=\"T_69ee1a1e_17b1_11e9_b595_1c36bbeca881row1_col1\" class=\"data row1 col1\" >$3.86</td> \n",
       "        <td id=\"T_69ee1a1e_17b1_11e9_b595_1c36bbeca881row1_col2\" class=\"data row1 col2\" >$15.45</td> \n",
       "    </tr>    <tr> \n",
       "        <th id=\"T_69ee1a1e_17b1_11e9_b595_1c36bbeca881level0_row2\" class=\"row_heading level0 row2\" >Chamjask73</th> \n",
       "        <td id=\"T_69ee1a1e_17b1_11e9_b595_1c36bbeca881row2_col0\" class=\"data row2 col0\" >3</td> \n",
       "        <td id=\"T_69ee1a1e_17b1_11e9_b595_1c36bbeca881row2_col1\" class=\"data row2 col1\" >$4.61</td> \n",
       "        <td id=\"T_69ee1a1e_17b1_11e9_b595_1c36bbeca881row2_col2\" class=\"data row2 col2\" >$13.83</td> \n",
       "    </tr>    <tr> \n",
       "        <th id=\"T_69ee1a1e_17b1_11e9_b595_1c36bbeca881level0_row3\" class=\"row_heading level0 row3\" >Iral74</th> \n",
       "        <td id=\"T_69ee1a1e_17b1_11e9_b595_1c36bbeca881row3_col0\" class=\"data row3 col0\" >4</td> \n",
       "        <td id=\"T_69ee1a1e_17b1_11e9_b595_1c36bbeca881row3_col1\" class=\"data row3 col1\" >$3.40</td> \n",
       "        <td id=\"T_69ee1a1e_17b1_11e9_b595_1c36bbeca881row3_col2\" class=\"data row3 col2\" >$13.62</td> \n",
       "    </tr>    <tr> \n",
       "        <th id=\"T_69ee1a1e_17b1_11e9_b595_1c36bbeca881level0_row4\" class=\"row_heading level0 row4\" >Iskadarya95</th> \n",
       "        <td id=\"T_69ee1a1e_17b1_11e9_b595_1c36bbeca881row4_col0\" class=\"data row4 col0\" >3</td> \n",
       "        <td id=\"T_69ee1a1e_17b1_11e9_b595_1c36bbeca881row4_col1\" class=\"data row4 col1\" >$4.37</td> \n",
       "        <td id=\"T_69ee1a1e_17b1_11e9_b595_1c36bbeca881row4_col2\" class=\"data row4 col2\" >$13.10</td> \n",
       "    </tr></tbody> \n",
       "</table> "
      ],
      "text/plain": [
       "<pandas.io.formats.style.Styler at 0x11c5dad68>"
      ]
     },
     "execution_count": 45,
     "metadata": {},
     "output_type": "execute_result"
    }
   ],
   "source": [
    "user_name = purchase_data.groupby(\"SN\")\n",
    "top_spenders = pd.DataFrame({\n",
    "    \"Purchase Count\": user_name[\"Purchase ID\"].count(),\n",
    "    \"Average Purchase Price\": user_name[\"Price\"].mean(),\n",
    "    \"Total Purchase Value\": user_name[\"Price\"].sum(),\n",
    "}).sort_values(\"Total Purchase Value\", ascending=False).head(5)\n",
    "top_spenders.style.format({\"Average Purchase Price\": \"${:.2f}\", \"Total Purchase Value\": \"${:.2f}\"})"
   ]
  },
  {
   "cell_type": "markdown",
   "metadata": {},
   "source": [
    "## Most Popular Items"
   ]
  },
  {
   "cell_type": "markdown",
   "metadata": {},
   "source": [
    "* Retrieve the Item ID, Item Name, and Item Price columns\n",
    "\n",
    "\n",
    "* Group by Item ID and Item Name. Perform calculations to obtain purchase count, item price, and total purchase value\n",
    "\n",
    "\n",
    "* Create a summary data frame to hold the results\n",
    "\n",
    "\n",
    "* Sort the purchase count column in descending order\n",
    "\n",
    "\n",
    "* Optional: give the displayed data cleaner formatting\n",
    "\n",
    "\n",
    "* Display a preview of the summary data frame\n",
    "\n"
   ]
  },
  {
   "cell_type": "code",
   "execution_count": 46,
   "metadata": {},
   "outputs": [
    {
     "data": {
      "text/html": [
       "<style  type=\"text/css\" >\n",
       "</style>  \n",
       "<table id=\"T_69f083a8_17b1_11e9_8747_1c36bbeca881\" > \n",
       "<thead>    <tr> \n",
       "        <th class=\"blank level0\" ></th> \n",
       "        <th class=\"col_heading level0 col0\" >Item Name</th> \n",
       "        <th class=\"col_heading level0 col1\" >Purchase Count</th> \n",
       "        <th class=\"col_heading level0 col2\" >Item Price</th> \n",
       "        <th class=\"col_heading level0 col3\" >Total Purchase Price</th> \n",
       "    </tr>    <tr> \n",
       "        <th class=\"index_name level0\" >Item ID</th> \n",
       "        <th class=\"blank\" ></th> \n",
       "        <th class=\"blank\" ></th> \n",
       "        <th class=\"blank\" ></th> \n",
       "        <th class=\"blank\" ></th> \n",
       "    </tr></thead> \n",
       "<tbody>    <tr> \n",
       "        <th id=\"T_69f083a8_17b1_11e9_8747_1c36bbeca881level0_row0\" class=\"row_heading level0 row0\" >178</th> \n",
       "        <td id=\"T_69f083a8_17b1_11e9_8747_1c36bbeca881row0_col0\" class=\"data row0 col0\" >Oathbreaker, Last Hope of the Breaking Storm</td> \n",
       "        <td id=\"T_69f083a8_17b1_11e9_8747_1c36bbeca881row0_col1\" class=\"data row0 col1\" >12</td> \n",
       "        <td id=\"T_69f083a8_17b1_11e9_8747_1c36bbeca881row0_col2\" class=\"data row0 col2\" >$4.23</td> \n",
       "        <td id=\"T_69f083a8_17b1_11e9_8747_1c36bbeca881row0_col3\" class=\"data row0 col3\" >$50.76</td> \n",
       "    </tr>    <tr> \n",
       "        <th id=\"T_69f083a8_17b1_11e9_8747_1c36bbeca881level0_row1\" class=\"row_heading level0 row1\" >145</th> \n",
       "        <td id=\"T_69f083a8_17b1_11e9_8747_1c36bbeca881row1_col0\" class=\"data row1 col0\" >Fiery Glass Crusader</td> \n",
       "        <td id=\"T_69f083a8_17b1_11e9_8747_1c36bbeca881row1_col1\" class=\"data row1 col1\" >9</td> \n",
       "        <td id=\"T_69f083a8_17b1_11e9_8747_1c36bbeca881row1_col2\" class=\"data row1 col2\" >$4.58</td> \n",
       "        <td id=\"T_69f083a8_17b1_11e9_8747_1c36bbeca881row1_col3\" class=\"data row1 col3\" >$41.22</td> \n",
       "    </tr>    <tr> \n",
       "        <th id=\"T_69f083a8_17b1_11e9_8747_1c36bbeca881level0_row2\" class=\"row_heading level0 row2\" >108</th> \n",
       "        <td id=\"T_69f083a8_17b1_11e9_8747_1c36bbeca881row2_col0\" class=\"data row2 col0\" >Extraction, Quickblade Of Trembling Hands</td> \n",
       "        <td id=\"T_69f083a8_17b1_11e9_8747_1c36bbeca881row2_col1\" class=\"data row2 col1\" >9</td> \n",
       "        <td id=\"T_69f083a8_17b1_11e9_8747_1c36bbeca881row2_col2\" class=\"data row2 col2\" >$3.53</td> \n",
       "        <td id=\"T_69f083a8_17b1_11e9_8747_1c36bbeca881row2_col3\" class=\"data row2 col3\" >$31.77</td> \n",
       "    </tr>    <tr> \n",
       "        <th id=\"T_69f083a8_17b1_11e9_8747_1c36bbeca881level0_row3\" class=\"row_heading level0 row3\" >82</th> \n",
       "        <td id=\"T_69f083a8_17b1_11e9_8747_1c36bbeca881row3_col0\" class=\"data row3 col0\" >Nirvana</td> \n",
       "        <td id=\"T_69f083a8_17b1_11e9_8747_1c36bbeca881row3_col1\" class=\"data row3 col1\" >9</td> \n",
       "        <td id=\"T_69f083a8_17b1_11e9_8747_1c36bbeca881row3_col2\" class=\"data row3 col2\" >$4.90</td> \n",
       "        <td id=\"T_69f083a8_17b1_11e9_8747_1c36bbeca881row3_col3\" class=\"data row3 col3\" >$44.10</td> \n",
       "    </tr>    <tr> \n",
       "        <th id=\"T_69f083a8_17b1_11e9_8747_1c36bbeca881level0_row4\" class=\"row_heading level0 row4\" >19</th> \n",
       "        <td id=\"T_69f083a8_17b1_11e9_8747_1c36bbeca881row4_col0\" class=\"data row4 col0\" >Pursuit, Cudgel of Necromancy</td> \n",
       "        <td id=\"T_69f083a8_17b1_11e9_8747_1c36bbeca881row4_col1\" class=\"data row4 col1\" >8</td> \n",
       "        <td id=\"T_69f083a8_17b1_11e9_8747_1c36bbeca881row4_col2\" class=\"data row4 col2\" >$1.02</td> \n",
       "        <td id=\"T_69f083a8_17b1_11e9_8747_1c36bbeca881row4_col3\" class=\"data row4 col3\" >$8.16</td> \n",
       "    </tr></tbody> \n",
       "</table> "
      ],
      "text/plain": [
       "<pandas.io.formats.style.Styler at 0x11c5e3208>"
      ]
     },
     "execution_count": 46,
     "metadata": {},
     "output_type": "execute_result"
    }
   ],
   "source": [
    "pop_it= purchase_data.groupby(\"Item ID\")\n",
    "\n",
    "popular_items = pd.DataFrame({\n",
    "    \"Item Name\": pop_it[\"Item Name\"].first(),\n",
    "    \"Purchase Count\": pop_it[\"Item Name\"].count(),\n",
    "    \"Item Price\": pop_it[\"Price\"].first(),\n",
    "    \"Total Purchase Price\": pop_it[\"Price\"].sum()\n",
    "}).sort_values(\"Purchase Count\", ascending=False).head(5)\n",
    "popular_items.style.format({\"Item Price\": \"${:.2f}\", \"Total Purchase Price\": \"${:.2f}\"})"
   ]
  },
  {
   "cell_type": "markdown",
   "metadata": {},
   "source": [
    "## Most Profitable Items"
   ]
  },
  {
   "cell_type": "markdown",
   "metadata": {},
   "source": [
    "* Sort the above table by total purchase value in descending order\n",
    "\n",
    "\n",
    "* Optional: give the displayed data cleaner formatting\n",
    "\n",
    "\n",
    "* Display a preview of the data frame\n",
    "\n"
   ]
  },
  {
   "cell_type": "code",
   "execution_count": 47,
   "metadata": {
    "scrolled": true
   },
   "outputs": [
    {
     "data": {
      "text/html": [
       "<style  type=\"text/css\" >\n",
       "</style>  \n",
       "<table id=\"T_69f25090_17b1_11e9_898e_1c36bbeca881\" > \n",
       "<thead>    <tr> \n",
       "        <th class=\"blank level0\" ></th> \n",
       "        <th class=\"col_heading level0 col0\" >Item Name</th> \n",
       "        <th class=\"col_heading level0 col1\" >Purchase Count</th> \n",
       "        <th class=\"col_heading level0 col2\" >Item Price</th> \n",
       "        <th class=\"col_heading level0 col3\" >Total Purchase Price</th> \n",
       "    </tr>    <tr> \n",
       "        <th class=\"index_name level0\" >Item ID</th> \n",
       "        <th class=\"blank\" ></th> \n",
       "        <th class=\"blank\" ></th> \n",
       "        <th class=\"blank\" ></th> \n",
       "        <th class=\"blank\" ></th> \n",
       "    </tr></thead> \n",
       "<tbody>    <tr> \n",
       "        <th id=\"T_69f25090_17b1_11e9_898e_1c36bbeca881level0_row0\" class=\"row_heading level0 row0\" >178</th> \n",
       "        <td id=\"T_69f25090_17b1_11e9_898e_1c36bbeca881row0_col0\" class=\"data row0 col0\" >Oathbreaker, Last Hope of the Breaking Storm</td> \n",
       "        <td id=\"T_69f25090_17b1_11e9_898e_1c36bbeca881row0_col1\" class=\"data row0 col1\" >12</td> \n",
       "        <td id=\"T_69f25090_17b1_11e9_898e_1c36bbeca881row0_col2\" class=\"data row0 col2\" >$4.23</td> \n",
       "        <td id=\"T_69f25090_17b1_11e9_898e_1c36bbeca881row0_col3\" class=\"data row0 col3\" >$50.76</td> \n",
       "    </tr>    <tr> \n",
       "        <th id=\"T_69f25090_17b1_11e9_898e_1c36bbeca881level0_row1\" class=\"row_heading level0 row1\" >82</th> \n",
       "        <td id=\"T_69f25090_17b1_11e9_898e_1c36bbeca881row1_col0\" class=\"data row1 col0\" >Nirvana</td> \n",
       "        <td id=\"T_69f25090_17b1_11e9_898e_1c36bbeca881row1_col1\" class=\"data row1 col1\" >9</td> \n",
       "        <td id=\"T_69f25090_17b1_11e9_898e_1c36bbeca881row1_col2\" class=\"data row1 col2\" >$4.90</td> \n",
       "        <td id=\"T_69f25090_17b1_11e9_898e_1c36bbeca881row1_col3\" class=\"data row1 col3\" >$44.10</td> \n",
       "    </tr>    <tr> \n",
       "        <th id=\"T_69f25090_17b1_11e9_898e_1c36bbeca881level0_row2\" class=\"row_heading level0 row2\" >145</th> \n",
       "        <td id=\"T_69f25090_17b1_11e9_898e_1c36bbeca881row2_col0\" class=\"data row2 col0\" >Fiery Glass Crusader</td> \n",
       "        <td id=\"T_69f25090_17b1_11e9_898e_1c36bbeca881row2_col1\" class=\"data row2 col1\" >9</td> \n",
       "        <td id=\"T_69f25090_17b1_11e9_898e_1c36bbeca881row2_col2\" class=\"data row2 col2\" >$4.58</td> \n",
       "        <td id=\"T_69f25090_17b1_11e9_898e_1c36bbeca881row2_col3\" class=\"data row2 col3\" >$41.22</td> \n",
       "    </tr>    <tr> \n",
       "        <th id=\"T_69f25090_17b1_11e9_898e_1c36bbeca881level0_row3\" class=\"row_heading level0 row3\" >108</th> \n",
       "        <td id=\"T_69f25090_17b1_11e9_898e_1c36bbeca881row3_col0\" class=\"data row3 col0\" >Extraction, Quickblade Of Trembling Hands</td> \n",
       "        <td id=\"T_69f25090_17b1_11e9_898e_1c36bbeca881row3_col1\" class=\"data row3 col1\" >9</td> \n",
       "        <td id=\"T_69f25090_17b1_11e9_898e_1c36bbeca881row3_col2\" class=\"data row3 col2\" >$3.53</td> \n",
       "        <td id=\"T_69f25090_17b1_11e9_898e_1c36bbeca881row3_col3\" class=\"data row3 col3\" >$31.77</td> \n",
       "    </tr>    <tr> \n",
       "        <th id=\"T_69f25090_17b1_11e9_898e_1c36bbeca881level0_row4\" class=\"row_heading level0 row4\" >19</th> \n",
       "        <td id=\"T_69f25090_17b1_11e9_898e_1c36bbeca881row4_col0\" class=\"data row4 col0\" >Pursuit, Cudgel of Necromancy</td> \n",
       "        <td id=\"T_69f25090_17b1_11e9_898e_1c36bbeca881row4_col1\" class=\"data row4 col1\" >8</td> \n",
       "        <td id=\"T_69f25090_17b1_11e9_898e_1c36bbeca881row4_col2\" class=\"data row4 col2\" >$1.02</td> \n",
       "        <td id=\"T_69f25090_17b1_11e9_898e_1c36bbeca881row4_col3\" class=\"data row4 col3\" >$8.16</td> \n",
       "    </tr></tbody> \n",
       "</table> "
      ],
      "text/plain": [
       "<pandas.io.formats.style.Styler at 0x11c6c9d68>"
      ]
     },
     "execution_count": 47,
     "metadata": {},
     "output_type": "execute_result"
    }
   ],
   "source": [
    "new_pop_df = popular_items.copy()\n",
    "new_pop_df = new_pop_df.sort_values(\"Total Purchase Price\", ascending=False).head(5)\n",
    "new_pop_df.style.format({\"Item Price\": \"${:.2f}\", \"Total Purchase Price\": \"${:.2f}\"})\n"
   ]
  },
  {
   "cell_type": "code",
   "execution_count": null,
   "metadata": {},
   "outputs": [],
   "source": []
  }
 ],
 "metadata": {
  "anaconda-cloud": {},
  "kernel_info": {
   "name": "python3"
  },
  "kernelspec": {
   "display_name": "Python 3",
   "language": "python",
   "name": "python3"
  },
  "language_info": {
   "codemirror_mode": {
    "name": "ipython",
    "version": 3
   },
   "file_extension": ".py",
   "mimetype": "text/x-python",
   "name": "python",
   "nbconvert_exporter": "python",
   "pygments_lexer": "ipython3",
   "version": "3.6.6"
  },
  "nteract": {
   "version": "0.2.0"
  }
 },
 "nbformat": 4,
 "nbformat_minor": 2
}
